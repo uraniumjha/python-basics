{
 "cells": [
  {
   "cell_type": "raw",
   "id": "294e19e5-ce6f-4f60-9753-60154c18ad62",
   "metadata": {},
   "source": [
    "Python baics questions"
   ]
  },
  {
   "cell_type": "raw",
   "id": "3630443f-7fbd-4d71-8bf1-29927d2d7250",
   "metadata": {},
   "source": [
    "1.What is Python, and why is it popular?\n",
    "  Python is a high-level, versatile programming language known for its simplicity and readability. It is popular due to its easy-to-learn syntax, extensive libraries, cross-platform compatibility, and wide use in fields like web development, data science, AI, and automation."
   ]
  },
  {
   "cell_type": "raw",
   "id": "dc5740b3-eab6-408f-96d5-8af0e944be30",
   "metadata": {},
   "source": [
    "#2.What is an interpreter in Python\n",
    "An interpreter in Python is a program that executes Python code line by line, translating it into machine-readable instructions at runtime."
   ]
  },
  {
   "cell_type": "raw",
   "id": "a285ad8e-f03e-4a67-9198-f24e200e0599",
   "metadata": {},
   "source": [
    "#3.What are pre-defined keywords in Python\n",
    "Pre-defined keywords in Python are reserved words that have special meanings and are part of the language's syntax. They cannot be used as variable or function names"
   ]
  },
  {
   "cell_type": "raw",
   "id": "60d7457e-312d-4fe2-8811-f9ea5d088eaa",
   "metadata": {},
   "source": [
    "#4.Can keywords be used as variable names\n",
    "No,keywords cannot be used as variable names in Python. They are reserved words with predefined meanings and specific roles in the language's syntax. Using them as variable names will result in a syntax error."
   ]
  },
  {
   "cell_type": "raw",
   "id": "fe2fbf11-f3ae-4825-b121-04c90126e8b4",
   "metadata": {},
   "source": [
    "#5.What is mutability in Python\n",
    "Mutability in Python refers to whether an object’s state its content can be modified after it has been created"
   ]
  },
  {
   "cell_type": "raw",
   "id": "1421b010-f125-4c43-a75f-0e4e2a6d2662",
   "metadata": {},
   "source": [
    "#6 Why are lists mutable, but tuples are immutable\n",
    "Lists are mutable because they are designed for dynamic collections where elements can be added, removed, or modified. This flexibility makes them ideal for situations where frequent changes are needed. \n",
    "Tuples, on the other hand, are immutable because they are intended for fixed, unchanging collections of data. Their immutability ensures data integrity, allows them to be used as dictionary keys, and makes them more memory-efficient and faster for access."
   ]
  },
  {
   "cell_type": "raw",
   "id": "b1f76eee-9b95-4821-9575-8ecc9f1f91fa",
   "metadata": {},
   "source": [
    "#7 What is the difference between “==” and “is” operators in Python\n",
    "==: Compares the values of two objects for equality.  \n",
    "is: Checks if two objects refer to the same memory location identity."
   ]
  },
  {
   "cell_type": "raw",
   "id": "61639aed-a80a-48ce-b07f-cb3c1f35a5f4",
   "metadata": {},
   "source": [
    "#8 What are logical operators in Python\n",
    "Logical operators in Python are used to combine conditional statements or expressions and return a boolean result (True or False). They evaluate the truthiness of expressions."
   ]
  },
  {
   "cell_type": "raw",
   "id": "b87351a3-e88b-4325-84bf-5cc446c96369",
   "metadata": {},
   "source": [
    "#9 What is type casting in Python\n",
    "where data type is changed from one form to another"
   ]
  },
  {
   "cell_type": "raw",
   "id": "198d9946-6e0e-42ff-9c11-400b63a1d7de",
   "metadata": {},
   "source": [
    "#10 What is the difference between implicit and explicit type casting\n",
    "Implicit Type Casting -The Python interpreter automatically converts one data type to another during operations.  \n",
    "Explicit Type Casting -The programmer manually converts a data type using type conversion functions like int,float,str"
   ]
  },
  {
   "cell_type": "raw",
   "id": "6dc2cd46-4c4d-4a85-afaf-f55182bc2432",
   "metadata": {},
   "source": [
    "#11 What is the purpose of conditional statements in Python\n",
    "The purpose of conditional statements in Python is to execute specific blocks of code based on whether a given condition evaluates to true or false"
   ]
  },
  {
   "cell_type": "raw",
   "id": "d8f27719-6bae-4247-8036-2df22de13381",
   "metadata": {},
   "source": [
    "#12 How does the elif statement work\n",
    "The elif statement checks multiple conditions sequentially and executes its block of code if its condition evaluates to true skipping the rest."
   ]
  },
  {
   "cell_type": "raw",
   "id": "2f060f4a-0243-469d-8973-1ea297694f95",
   "metadata": {},
   "source": [
    "#13 What is the difference between for and while loops\n",
    "for loop : Iterates over a sequence (e.g., list, range) for a fixed number of iterations.  \n",
    "while loops : Repeats as long as a specified condition remains true , ideal for indefinite loops."
   ]
  },
  {
   "cell_type": "raw",
   "id": "77b6fa5f-87f3-4534-bc8b-c01e48f7c9ca",
   "metadata": {},
   "source": [
    "#14 Describe a scenario where a while loop is more suitable than a for loop\n",
    "A while loop is more suitable when the number of iterations is unknown and depends on a condition being met, such as reading input until the user enters a specific value or processing data until a certain threshold is reached."
   ]
  },
  {
   "cell_type": "code",
   "execution_count": null,
   "id": "28ded7b7-d7f5-4997-87ed-50f01ffb570d",
   "metadata": {},
   "outputs": [],
   "source": [
    "Practical questions"
   ]
  },
  {
   "cell_type": "code",
   "execution_count": 2,
   "id": "402af937-5fd0-429a-95b9-58f428f4aa2a",
   "metadata": {},
   "outputs": [
    {
     "name": "stdout",
     "output_type": "stream",
     "text": [
      "\"Hello, World!\"\n"
     ]
    }
   ],
   "source": [
    "#1.Write a Python program to print \"Hello, World!\"\n",
    "my_first_program = '\"Hello, World!\"'\n",
    "print(my_first_program)\n"
   ]
  },
  {
   "cell_type": "code",
   "execution_count": 15,
   "id": "169619d7-4fb4-4b66-a168-3ee0fbad97fd",
   "metadata": {},
   "outputs": [
    {
     "name": "stdout",
     "output_type": "stream",
     "text": [
      "Name = Anand\n",
      "Age = 99\n"
     ]
    }
   ],
   "source": [
    "#2.Write a Python program that displays your name and age\n",
    "Name = \"Anand\"\n",
    "print(\"Name = \" , end=\"\")\n",
    "for lttrs in Name :\n",
    "    print(lttrs , end=\"\")\n",
    "else:\n",
    "    print(\"\\nAge = 99\")"
   ]
  },
  {
   "cell_type": "code",
   "execution_count": 42,
   "id": "edf2436b-abdb-4f53-becc-e10710369b24",
   "metadata": {},
   "outputs": [
    {
     "name": "stdout",
     "output_type": "stream",
     "text": [
      "['False', 'None', 'True', 'and', 'as', 'assert', 'async', 'await', 'break', 'class', 'continue', 'def', 'del', 'elif', 'else', 'except', 'finally', 'for', 'from', 'global', 'if', 'import', 'in', 'is', 'lambda', 'nonlocal', 'not', 'or', 'pass', 'raise', 'return', 'try', 'while', 'with', 'yield']\n"
     ]
    }
   ],
   "source": [
    "#3.Write code to print all the pre-defined keywords in Python using the keyword library\n",
    "import keyword\n",
    "print(keyword.kwlist)\n"
   ]
  },
  {
   "cell_type": "code",
   "execution_count": 1,
   "id": "3dcf80c9-e3ac-4c18-9db3-895f0ba36bc5",
   "metadata": {},
   "outputs": [
    {
     "name": "stdin",
     "output_type": "stream",
     "text": [
      "Enter a word:  kk\n"
     ]
    },
    {
     "name": "stdout",
     "output_type": "stream",
     "text": [
      "'kk' is not a Python keyword.\n"
     ]
    }
   ],
   "source": [
    "#4.Write a program that checks if a given word is a Python keyword\n",
    "import keyword\n",
    "word = input(\"Enter a word: \")\n",
    "if keyword.iskeyword(word):\n",
    "    print(f\"'{word}' is a Python keyword.\")\n",
    "else:\n",
    "    print(f\"'{word}' is not a Python keyword.\")"
   ]
  },
  {
   "cell_type": "code",
   "execution_count": 17,
   "id": "c3432e28-4fe9-44a5-9c30-4ed67f2f9a17",
   "metadata": {},
   "outputs": [
    {
     "data": {
      "text/plain": [
       "['Karn', 'Kaal Bhairava', 'NikolaTesla', 'Dad', ('Narshima', 'Abhimanyu')]"
      ]
     },
     "execution_count": 17,
     "metadata": {},
     "output_type": "execute_result"
    }
   ],
   "source": [
    "#5.Create a list and tuple in Python, and demonstrate how attempting to change an element works differently\n",
    "#List\n",
    "superhero = [\"Karn\",\"Shiv\",\"NikolaTesla\",\"Dad\",(\"Narshima\",\"Abhimanyu\")]\n",
    "#superhero[4][1]=\"Kaal bhairava\"\n",
    "superhero[1]=\"Kaal Bhairava\"\n",
    "superhero\n",
    "\n",
    "\n"
   ]
  },
  {
   "cell_type": "code",
   "execution_count": 2,
   "id": "816e3bab-773a-4043-bcbf-ba56a435d3c6",
   "metadata": {},
   "outputs": [
    {
     "name": "stdout",
     "output_type": "stream",
     "text": [
      "Mutable argument after function call: [1, 2, 3, 4]\n",
      "Immutable argument after function call: 10\n"
     ]
    }
   ],
   "source": [
    "#6.Write a function to demonstrate the behavior of mutable and immutable arguments\n",
    "def demonstrate_mutable_and_immutable(mutable_arg, immutable_arg):\n",
    "    mutable_arg.append(4)\n",
    "    immutable_arg += 1\n",
    "    return mutable_arg, immutable_arg\n",
    "my_list = [1, 2, 3]\n",
    "my_int = 10\n",
    "new_list, new_int = demonstrate_mutable_and_immutable(my_list, my_int)\n",
    "print(\"Mutable argument after function call:\", my_list)\n",
    "print(\"Immutable argument after function call:\", my_int)"
   ]
  },
  {
   "cell_type": "code",
   "execution_count": null,
   "id": "3af5c416-8e7d-453b-befe-cfb50d4e7b44",
   "metadata": {},
   "outputs": [],
   "source": [
    "#7.Write a function to demonstrate the behavior of mutable and immutable arguments\n",
    "def demonstrate_mutable_and_immutable(mutable_arg, immutable_arg):\n",
    "    mutable_arg.append(4)\n",
    "    immutable_arg += 1\n",
    "    return mutable_arg, immutable_arg\n",
    "my_list = [1, 2, 3]\n",
    "my_int = 10\n",
    "new_list, new_int = demonstrate_mutable_and_immutable(my_list, my_int)\n",
    "print(\"Mutable argument after function call:\", my_list)\n",
    "print(\"Immutable argument after function call:\", my_int)"
   ]
  },
  {
   "cell_type": "code",
   "execution_count": 19,
   "id": "452ed822-e4f9-447a-8dd1-feab687d125e",
   "metadata": {},
   "outputs": [
    {
     "name": "stdout",
     "output_type": "stream",
     "text": [
      "No Python documentation found for 'logical operators'.\n",
      "Use help() to get the interactive help utility.\n",
      "Use help(str) for help on the str class.\n",
      "\n"
     ]
    }
   ],
   "source": [
    "#8.Write a program to demonstrate the use of logical operators\n",
    "a=10\n",
    "b=12\n",
    "c=15\n",
    "if b>a and c"
   ]
  },
  {
   "cell_type": "code",
   "execution_count": 22,
   "id": "35256d96-59bf-4721-94f0-1f9589bfeb61",
   "metadata": {},
   "outputs": [
    {
     "name": "stdin",
     "output_type": "stream",
     "text": [
      "Enter any number -5\n"
     ]
    },
    {
     "name": "stdout",
     "output_type": "stream",
     "text": [
      "-5.0\n"
     ]
    }
   ],
   "source": [
    "#9.Write a Python program to convert user input from string to integer, float, and boolean types\n",
    "user_input = int(input(\"Enter any number\"))\n",
    "if user_input > 0 :\n",
    "    print(\"Its an interger\")\n",
    "elif user_input < 0 :\n",
    "    print(float(user_input))\n",
    "elif user_input == 0 :\n",
    "    print(bool(user_input))\n",
    "    "
   ]
  },
  {
   "cell_type": "code",
   "execution_count": 32,
   "id": "c4522fe2-623a-49e6-87b0-d71070b1f8d7",
   "metadata": {},
   "outputs": [
    {
     "name": "stdout",
     "output_type": "stream",
     "text": [
      "{1, 2, 3, 4}\n",
      "(1, 2, 3, 4)\n",
      "[1, 2, 3, 4]\n"
     ]
    },
    {
     "data": {
      "text/plain": [
       "NoneType"
      ]
     },
     "execution_count": 32,
     "metadata": {},
     "output_type": "execute_result"
    }
   ],
   "source": [
    "#10.Write code to demonstrate type casting with list elements\n",
    "list_ = [1,2,3,4]\n",
    "print(set(list_))\n",
    "print(tuple(list_))\n",
    "print(str(list_))\n"
   ]
  },
  {
   "cell_type": "code",
   "execution_count": 49,
   "id": "e940fdf5-c90e-4d79-be6a-505db80a110b",
   "metadata": {},
   "outputs": [
    {
     "name": "stdin",
     "output_type": "stream",
     "text": [
      "Enter number here -55\n"
     ]
    },
    {
     "name": "stdout",
     "output_type": "stream",
     "text": [
      "Negative\n"
     ]
    }
   ],
   "source": [
    "#11.Write a program that checks if a number is positive, negative, or zero\n",
    "user_input = int(input(\"Enter number here\"))\n",
    "if user_input < 0 :\n",
    "    print(\"Negative\")\n",
    "elif user_input > 0 :\n",
    "    print(\"Postive\")\n",
    "else:\n",
    "    print(\"0\")"
   ]
  },
  {
   "cell_type": "code",
   "execution_count": 60,
   "id": "bc2f6dfe-0481-4be8-8a5c-171ac3e45968",
   "metadata": {},
   "outputs": [
    {
     "name": "stdout",
     "output_type": "stream",
     "text": [
      "1 2 3 4 5 6 7 8 9 10 "
     ]
    }
   ],
   "source": [
    "#12.Write a for loop to print numbers from 1 to 10\n",
    "for numbr in range(1,11):\n",
    "    print(numbr,end=\" \")"
   ]
  },
  {
   "cell_type": "code",
   "execution_count": 7,
   "id": "eabe89b9-96b2-42cf-8c80-89e2254e347b",
   "metadata": {},
   "outputs": [
    {
     "name": "stdout",
     "output_type": "stream",
     "text": [
      "The sum of even numbers is= 650\n"
     ]
    }
   ],
   "source": [
    "#13.Write a Python program to find the sum of all even numbers between 1 and 50\n",
    "k = 0\n",
    "for number in range(2, 51, 2):\n",
    "    k += number\n",
    "print(\"The sum of even numbers is=\", k)"
   ]
  },
  {
   "cell_type": "code",
   "execution_count": 4,
   "id": "fe574146-b526-4e06-b6c2-f8ad5d54ca5f",
   "metadata": {},
   "outputs": [
    {
     "name": "stdin",
     "output_type": "stream",
     "text": [
      " ddf\n"
     ]
    },
    {
     "name": "stdout",
     "output_type": "stream",
     "text": [
      "fdd\n"
     ]
    }
   ],
   "source": [
    "#14.Write a program to reverse a string using a while loop\n",
    "a = input()\n",
    "b =\"\"\n",
    "c=len(a)-1\n",
    "while c >= 0:\n",
    "    b += a[c]\n",
    "    c -= 1\n",
    "print(b)"
   ]
  },
  {
   "cell_type": "code",
   "execution_count": 5,
   "id": "d750d2da-6d2a-41f8-9197-0c74757a822f",
   "metadata": {},
   "outputs": [
    {
     "name": "stdin",
     "output_type": "stream",
     "text": [
      "Enter a number:  4\n"
     ]
    },
    {
     "name": "stdout",
     "output_type": "stream",
     "text": [
      "The factorial of 4 is 24.\n"
     ]
    }
   ],
   "source": [
    "#15.Write a Python program to calculate the factorial of a number provided by the user using a while loop.\n",
    "number = int(input(\"Enter a number: \"))\n",
    "factorial = 1\n",
    "i = 1\n",
    "while i <= number:\n",
    "    factorial *= i\n",
    "    i += 1\n",
    "print(f\"The factorial of {number} is {factorial}.\")"
   ]
  }
 ],
 "metadata": {
  "kernelspec": {
   "display_name": "Python 3 (ipykernel)",
   "language": "python",
   "name": "python3"
  },
  "language_info": {
   "codemirror_mode": {
    "name": "ipython",
    "version": 3
   },
   "file_extension": ".py",
   "mimetype": "text/x-python",
   "name": "python",
   "nbconvert_exporter": "python",
   "pygments_lexer": "ipython3",
   "version": "3.12.7"
  }
 },
 "nbformat": 4,
 "nbformat_minor": 5
}
